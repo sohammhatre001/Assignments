{
  "nbformat": 4,
  "nbformat_minor": 0,
  "metadata": {
    "colab": {
      "name": "J060_DL_Lab2.ipynb",
      "provenance": [],
      "collapsed_sections": []
    },
    "kernelspec": {
      "name": "python3",
      "display_name": "Python 3"
    },
    "accelerator": "GPU"
  },
  "cells": [
    {
      "cell_type": "markdown",
      "metadata": {
        "id": "u-Ap8ZsjQlF6",
        "colab_type": "text"
      },
      "source": [
        "DL Lab-2 J060"
      ]
    },
    {
      "cell_type": "code",
      "metadata": {
        "id": "Cq0wy0zyd0z8",
        "colab_type": "code",
        "outputId": "8d532a0c-4fc3-40ca-9311-4fde3c0ec9ee",
        "colab": {
          "base_uri": "https://localhost:8080/",
          "height": 124
        }
      },
      "source": [
        "from google.colab import drive\n",
        "drive.mount('/content/gdrive')"
      ],
      "execution_count": 0,
      "outputs": [
        {
          "output_type": "stream",
          "text": [
            "Go to this URL in a browser: https://accounts.google.com/o/oauth2/auth?client_id=947318989803-6bn6qk8qdgf4n4g3pfee6491hc0brc4i.apps.googleusercontent.com&redirect_uri=urn%3aietf%3awg%3aoauth%3a2.0%3aoob&response_type=code&scope=email%20https%3a%2f%2fwww.googleapis.com%2fauth%2fdocs.test%20https%3a%2f%2fwww.googleapis.com%2fauth%2fdrive%20https%3a%2f%2fwww.googleapis.com%2fauth%2fdrive.photos.readonly%20https%3a%2f%2fwww.googleapis.com%2fauth%2fpeopleapi.readonly\n",
            "\n",
            "Enter your authorization code:\n",
            "··········\n",
            "Mounted at /content/gdrive\n"
          ],
          "name": "stdout"
        }
      ]
    },
    {
      "cell_type": "code",
      "metadata": {
        "id": "ydqe3MtA6Ecu",
        "colab_type": "code",
        "colab": {}
      },
      "source": [
        "n_of_training_images=50"
      ],
      "execution_count": 0,
      "outputs": []
    },
    {
      "cell_type": "code",
      "metadata": {
        "id": "MMjOfp68BRJp",
        "colab_type": "code",
        "colab": {}
      },
      "source": [
        "import numpy as np\n",
        "import cv2\n",
        "import PIL.Image\n",
        "import pandas as pd\n",
        "import random\n",
        "from glob import glob\n",
        "import os.path"
      ],
      "execution_count": 0,
      "outputs": []
    },
    {
      "cell_type": "code",
      "metadata": {
        "id": "DHyQfQD8Byec",
        "colab_type": "code",
        "colab": {}
      },
      "source": [
        "X=[]\n",
        "Z=[]\n",
        "IMG_SIZE=150\n",
        "AGRICULTURAL_DIR='/content/gdrive/My Drive/DL test/Images/agricultural' \n",
        "AIRPLANE_DIR='/content/gdrive/My Drive/DL test/Images/airplane'\n",
        "BASEBALLDIAMOND_DIR='/content/gdrive/My Drive/DL test/Images/baseballdiamond'\n",
        "BEACH_DIR='/content/gdrive/My Drive/DL test/Images/beach'\n",
        "BUILDINGS_DIR='/content/gdrive/My Drive/DL test/Images/buildings'\n",
        "CHAPARRAL_DIR='/content/gdrive/My Drive/DL test/Images/chaparral'\n",
        "DENSERESIDENTIAL_DIR='/content/gdrive/My Drive/DL test/Images/denseresidential'\n",
        "FOREST_DIR='/content/gdrive/My Drive/DL test/Images/forest'\n",
        "FREEWAY_DIR='/content/gdrive/My Drive/DL test/Images/freeway'\n",
        "GOLFCOURSE_DIR='/content/gdrive/My Drive/DL test/Images/golfcourse'\n",
        "HARBOR_DIR='/content/gdrive/My Drive/DL test/Images/harbor'\n",
        "INTERSECTION_DIR='/content/gdrive/My Drive/DL test/Images/intersection'\n",
        "MEDIUMRESIDENTIAL_DIR='/content/gdrive/My Drive/DL test/Images/mediumresidential'\n",
        "MOBILEHOMEPARK_DIR='/content/gdrive/My Drive/DL test/Images/mobilehomepark'\n",
        "OVERPASS_DIR='/content/gdrive/My Drive/DL test/Images/overpass'\n",
        "PARKINGLOT_DIR='/content/gdrive/My Drive/DL test/Images/parkinglot'\n",
        "RIVER_DIR='/content/gdrive/My Drive/DL test/Images/river'\n",
        "RUNWAY_DIR='/content/gdrive/My Drive/DL test/Images/runway'\n",
        "SPARSERESIDENTIAL_DIR='/content/gdrive/My Drive/DL test/Images/sparseresidential'\n",
        "STORAGETANKS_DIR='/content/gdrive/My Drive/DL test/Images/storagetanks'\n",
        "TENNISCOURT_DIR='/content/gdrive/My Drive/DL test/Images/tenniscourt'"
      ],
      "execution_count": 0,
      "outputs": []
    },
    {
      "cell_type": "code",
      "metadata": {
        "id": "ijyMCKIl5xi1",
        "colab_type": "code",
        "colab": {}
      },
      "source": [
        "img_rows, img_cols = 32, 32 #number of rows and columns to convert the images to\n",
        "input_shape = (img_rows, img_cols, 3)#format to store the images (rows, columns,channels) called channels last"
      ],
      "execution_count": 0,
      "outputs": []
    },
    {
      "cell_type": "code",
      "metadata": {
        "id": "amOKNXMQSHLq",
        "colab_type": "code",
        "colab": {}
      },
      "source": [
        "def assign_label(img,image_type):\n",
        "    return image_type\n",
        "\n",
        "def make_train_data(image_type,DIR):\n",
        "    for img in tqdm(os.listdir(DIR)):\n",
        "        label=assign_label(img,image_type)\n",
        "        path = os.path.join(DIR,img)\n",
        "        img = cv2.imread(path,cv2.IMREAD_COLOR)\n",
        "        img = cv2.resize(img, (IMG_SIZE,IMG_SIZE))\n",
        "        \n",
        "        X.append(np.array(img))\n",
        "        Z.append(str(label))"
      ],
      "execution_count": 0,
      "outputs": []
    },
    {
      "cell_type": "code",
      "metadata": {
        "id": "EEUupEQMSPgX",
        "colab_type": "code",
        "outputId": "8b14b2b0-f1e5-4e14-ad9f-59cd6a9fcdea",
        "colab": {
          "base_uri": "https://localhost:8080/",
          "height": 745
        }
      },
      "source": [
        "from tqdm import tqdm\n",
        "make_train_data('Agricultural',AGRICULTURAL_DIR)\n",
        "print(len(X))\n",
        "make_train_data('Airplane',AIRPLANE_DIR)\n",
        "print(len(X))\n",
        "make_train_data('Baseball Diamond',BASEBALLDIAMOND_DIR)\n",
        "print(len(X))\n",
        "make_train_data('Beach',BEACH_DIR)\n",
        "print(len(X))\n",
        "make_train_data('Buildings',BUILDINGS_DIR)\n",
        "print(len(X))\n",
        "make_train_data('Chaparral',CHAPARRAL_DIR)\n",
        "print(len(X))\n",
        "make_train_data('Dense Residential',DENSERESIDENTIAL_DIR)\n",
        "print(len(X))\n",
        "make_train_data('Forest',FOREST_DIR)\n",
        "print(len(X))\n",
        "make_train_data('Freeway',FREEWAY_DIR)\n",
        "print(len(X))\n",
        "make_train_data('Golfcourse',GOLFCOURSE_DIR)\n",
        "print(len(X))\n",
        "make_train_data('Harbor',HARBOR_DIR)\n",
        "print(len(X))\n",
        "make_train_data('Intersection',INTERSECTION_DIR)\n",
        "print(len(X))\n",
        "make_train_data('Medium Residential',MEDIUMRESIDENTIAL_DIR)\n",
        "print(len(X))\n",
        "make_train_data('Mobile Home Park',MOBILEHOMEPARK_DIR)\n",
        "print(len(X))\n",
        "make_train_data('Overpass',OVERPASS_DIR)\n",
        "print(len(X))\n",
        "make_train_data('Parking Lot',PARKINGLOT_DIR)\n",
        "print(len(X))\n",
        "make_train_data('River',RIVER_DIR)\n",
        "print(len(X))\n",
        "make_train_data('Runway',RUNWAY_DIR)\n",
        "print(len(X))\n",
        "make_train_data('Sparse Residential',SPARSERESIDENTIAL_DIR)\n",
        "print(len(X))\n",
        "make_train_data('Storage Tanks',STORAGETANKS_DIR)\n",
        "print(len(X))\n",
        "make_train_data('Tennis Court',TENNISCOURT_DIR)\n",
        "print(len(X))"
      ],
      "execution_count": 0,
      "outputs": [
        {
          "output_type": "stream",
          "text": [
            "100%|██████████| 100/100 [00:33<00:00,  3.40it/s]\n",
            "  0%|          | 0/100 [00:00<?, ?it/s]"
          ],
          "name": "stderr"
        },
        {
          "output_type": "stream",
          "text": [
            "100\n"
          ],
          "name": "stdout"
        },
        {
          "output_type": "stream",
          "text": [
            "100%|██████████| 100/100 [00:28<00:00,  4.51it/s]\n",
            "  0%|          | 0/100 [00:00<?, ?it/s]"
          ],
          "name": "stderr"
        },
        {
          "output_type": "stream",
          "text": [
            "200\n"
          ],
          "name": "stdout"
        },
        {
          "output_type": "stream",
          "text": [
            "100%|██████████| 100/100 [00:28<00:00,  3.68it/s]\n",
            "  0%|          | 0/100 [00:00<?, ?it/s]"
          ],
          "name": "stderr"
        },
        {
          "output_type": "stream",
          "text": [
            "300\n"
          ],
          "name": "stdout"
        },
        {
          "output_type": "stream",
          "text": [
            "100%|██████████| 100/100 [00:29<00:00,  3.77it/s]\n",
            "  0%|          | 0/100 [00:00<?, ?it/s]"
          ],
          "name": "stderr"
        },
        {
          "output_type": "stream",
          "text": [
            "400\n"
          ],
          "name": "stdout"
        },
        {
          "output_type": "stream",
          "text": [
            "100%|██████████| 100/100 [00:37<00:00,  3.40it/s]\n",
            "  0%|          | 0/100 [00:00<?, ?it/s]"
          ],
          "name": "stderr"
        },
        {
          "output_type": "stream",
          "text": [
            "500\n"
          ],
          "name": "stdout"
        },
        {
          "output_type": "stream",
          "text": [
            "100%|██████████| 100/100 [00:34<00:00,  3.81it/s]\n",
            "  0%|          | 0/100 [00:00<?, ?it/s]"
          ],
          "name": "stderr"
        },
        {
          "output_type": "stream",
          "text": [
            "600\n"
          ],
          "name": "stdout"
        },
        {
          "output_type": "stream",
          "text": [
            "100%|██████████| 100/100 [00:35<00:00,  2.75it/s]\n",
            "  0%|          | 0/100 [00:00<?, ?it/s]"
          ],
          "name": "stderr"
        },
        {
          "output_type": "stream",
          "text": [
            "700\n"
          ],
          "name": "stdout"
        },
        {
          "output_type": "stream",
          "text": [
            "100%|██████████| 100/100 [00:31<00:00,  2.94it/s]\n",
            "  0%|          | 0/100 [00:00<?, ?it/s]"
          ],
          "name": "stderr"
        },
        {
          "output_type": "stream",
          "text": [
            "800\n"
          ],
          "name": "stdout"
        },
        {
          "output_type": "stream",
          "text": [
            "100%|██████████| 100/100 [00:28<00:00,  3.08it/s]\n",
            "  0%|          | 0/100 [00:00<?, ?it/s]"
          ],
          "name": "stderr"
        },
        {
          "output_type": "stream",
          "text": [
            "900\n"
          ],
          "name": "stdout"
        },
        {
          "output_type": "stream",
          "text": [
            "100%|██████████| 100/100 [00:35<00:00,  2.93it/s]\n",
            "  0%|          | 0/100 [00:00<?, ?it/s]"
          ],
          "name": "stderr"
        },
        {
          "output_type": "stream",
          "text": [
            "1000\n"
          ],
          "name": "stdout"
        },
        {
          "output_type": "stream",
          "text": [
            "100%|██████████| 100/100 [00:39<00:00,  2.31it/s]\n",
            "  0%|          | 0/100 [00:00<?, ?it/s]"
          ],
          "name": "stderr"
        },
        {
          "output_type": "stream",
          "text": [
            "1100\n"
          ],
          "name": "stdout"
        },
        {
          "output_type": "stream",
          "text": [
            "100%|██████████| 100/100 [00:33<00:00,  3.55it/s]\n",
            "  0%|          | 0/100 [00:00<?, ?it/s]"
          ],
          "name": "stderr"
        },
        {
          "output_type": "stream",
          "text": [
            "1200\n"
          ],
          "name": "stdout"
        },
        {
          "output_type": "stream",
          "text": [
            "100%|██████████| 100/100 [00:29<00:00,  3.30it/s]\n",
            "  0%|          | 0/100 [00:00<?, ?it/s]"
          ],
          "name": "stderr"
        },
        {
          "output_type": "stream",
          "text": [
            "1300\n"
          ],
          "name": "stdout"
        },
        {
          "output_type": "stream",
          "text": [
            "100%|██████████| 100/100 [00:28<00:00,  4.13it/s]\n",
            "  0%|          | 0/100 [00:00<?, ?it/s]"
          ],
          "name": "stderr"
        },
        {
          "output_type": "stream",
          "text": [
            "1400\n"
          ],
          "name": "stdout"
        },
        {
          "output_type": "stream",
          "text": [
            "100%|██████████| 100/100 [00:32<00:00,  3.37it/s]\n",
            "  0%|          | 0/100 [00:00<?, ?it/s]"
          ],
          "name": "stderr"
        },
        {
          "output_type": "stream",
          "text": [
            "1500\n"
          ],
          "name": "stdout"
        },
        {
          "output_type": "stream",
          "text": [
            "100%|██████████| 100/100 [00:32<00:00,  2.59it/s]\n",
            "  0%|          | 0/100 [00:00<?, ?it/s]"
          ],
          "name": "stderr"
        },
        {
          "output_type": "stream",
          "text": [
            "1600\n"
          ],
          "name": "stdout"
        },
        {
          "output_type": "stream",
          "text": [
            "100%|██████████| 100/100 [00:33<00:00,  2.18it/s]\n",
            "  0%|          | 0/100 [00:00<?, ?it/s]"
          ],
          "name": "stderr"
        },
        {
          "output_type": "stream",
          "text": [
            "1700\n"
          ],
          "name": "stdout"
        },
        {
          "output_type": "stream",
          "text": [
            "100%|██████████| 100/100 [00:31<00:00,  3.30it/s]\n",
            "  0%|          | 0/100 [00:00<?, ?it/s]"
          ],
          "name": "stderr"
        },
        {
          "output_type": "stream",
          "text": [
            "1800\n"
          ],
          "name": "stdout"
        },
        {
          "output_type": "stream",
          "text": [
            "100%|██████████| 100/100 [00:33<00:00,  2.99it/s]\n",
            "  0%|          | 0/100 [00:00<?, ?it/s]"
          ],
          "name": "stderr"
        },
        {
          "output_type": "stream",
          "text": [
            "1900\n"
          ],
          "name": "stdout"
        },
        {
          "output_type": "stream",
          "text": [
            "100%|██████████| 100/100 [00:34<00:00,  3.42it/s]\n",
            "  0%|          | 0/100 [00:00<?, ?it/s]"
          ],
          "name": "stderr"
        },
        {
          "output_type": "stream",
          "text": [
            "2000\n"
          ],
          "name": "stdout"
        },
        {
          "output_type": "stream",
          "text": [
            "100%|██████████| 100/100 [00:29<00:00,  3.94it/s]"
          ],
          "name": "stderr"
        },
        {
          "output_type": "stream",
          "text": [
            "2100\n"
          ],
          "name": "stdout"
        },
        {
          "output_type": "stream",
          "text": [
            "\n"
          ],
          "name": "stderr"
        }
      ]
    },
    {
      "cell_type": "code",
      "metadata": {
        "id": "vNci60KJgFB2",
        "colab_type": "code",
        "outputId": "02ac1182-ff36-4857-e5fd-b0d736ee91c3",
        "colab": {
          "base_uri": "https://localhost:8080/",
          "height": 99
        }
      },
      "source": [
        "# Ignore  the warnings\n",
        "import warnings\n",
        "warnings.filterwarnings('always')\n",
        "warnings.filterwarnings('ignore')\n",
        "\n",
        "# data visualisation and manipulation\n",
        "import numpy as np\n",
        "import pandas as pd\n",
        "import matplotlib.pyplot as plt\n",
        "from matplotlib import style\n",
        "import seaborn as sns\n",
        " \n",
        "%matplotlib inline  \n",
        "style.use('fivethirtyeight')\n",
        "sns.set(style='whitegrid',color_codes=True)\n",
        "\n",
        "from sklearn.model_selection import train_test_split\n",
        "from sklearn.model_selection import KFold\n",
        "from sklearn.metrics import accuracy_score,precision_score,recall_score,confusion_matrix,roc_curve,roc_auc_score\n",
        "from sklearn.model_selection import GridSearchCV\n",
        "from sklearn.preprocessing import LabelEncoder\n",
        "\n",
        "from keras.preprocessing.image import ImageDataGenerator\n",
        "\n",
        "from keras import backend as K\n",
        "from keras.models import Sequential\n",
        "from keras.layers import Dense\n",
        "from keras.optimizers import Adam,SGD,Adagrad,Adadelta,RMSprop\n",
        "from keras.utils import to_categorical\n",
        "\n",
        "from keras.layers import Dropout, Flatten,Activation\n",
        "from keras.layers import Conv2D, MaxPooling2D, BatchNormalization\n",
        " \n",
        "import tensorflow as tf\n",
        "import random as rn\n",
        "\n",
        "import cv2                  \n",
        "import numpy as np  \n",
        "from tqdm import tqdm\n",
        "\n",
        "import os                   \n",
        "from random import shuffle  \n",
        "from zipfile import ZipFile\n",
        "from PIL import Image"
      ],
      "execution_count": 0,
      "outputs": [
        {
          "output_type": "stream",
          "text": [
            "Using TensorFlow backend.\n"
          ],
          "name": "stderr"
        },
        {
          "output_type": "display_data",
          "data": {
            "text/html": [
              "<p style=\"color: red;\">\n",
              "The default version of TensorFlow in Colab will soon switch to TensorFlow 2.x.<br>\n",
              "We recommend you <a href=\"https://www.tensorflow.org/guide/migrate\" target=\"_blank\">upgrade</a> now \n",
              "or ensure your notebook will continue to use TensorFlow 1.x via the <code>%tensorflow_version 1.x</code> magic:\n",
              "<a href=\"https://colab.research.google.com/notebooks/tensorflow_version.ipynb\" target=\"_blank\">more info</a>.</p>\n"
            ],
            "text/plain": [
              "<IPython.core.display.HTML object>"
            ]
          },
          "metadata": {
            "tags": []
          }
        }
      ]
    },
    {
      "cell_type": "code",
      "metadata": {
        "id": "Q2jMTWzBtKiy",
        "colab_type": "code",
        "colab": {}
      },
      "source": [
        "le=LabelEncoder()\n",
        "Y=le.fit_transform(Z)\n",
        "Y=to_categorical(Y,21)\n",
        "X=np.array(X)\n",
        "X=X/255"
      ],
      "execution_count": 0,
      "outputs": []
    },
    {
      "cell_type": "code",
      "metadata": {
        "id": "wTQ0PSGLtW45",
        "colab_type": "code",
        "colab": {}
      },
      "source": [
        "x_train,x_test,y_train,y_test=train_test_split(X,Y,test_size=0.25,random_state=42)\n",
        "np.random.seed(42)\n",
        "rn.seed(42)\n",
        "tf.set_random_seed(42)"
      ],
      "execution_count": 0,
      "outputs": []
    },
    {
      "cell_type": "code",
      "metadata": {
        "id": "zVrn9n5htZfS",
        "colab_type": "code",
        "outputId": "5aa9bb2b-62ac-4e4e-c906-0fecdd1af68f",
        "colab": {
          "base_uri": "https://localhost:8080/",
          "height": 176
        }
      },
      "source": [
        "model = Sequential()\n",
        "model.add(Conv2D(filters = 32, kernel_size = (5,5),padding = 'Same',activation ='relu', input_shape = (150,150,3)))\n",
        "model.add(MaxPooling2D(pool_size=(2,2)))\n",
        "\n",
        "\n",
        "model.add(Conv2D(filters = 64, kernel_size = (3,3),padding = 'Same',activation ='relu'))\n",
        "model.add(MaxPooling2D(pool_size=(2,2), strides=(2,2)))\n",
        " \n",
        "\n",
        "model.add(Conv2D(filters =96, kernel_size = (3,3),padding = 'Same',activation ='relu'))\n",
        "model.add(MaxPooling2D(pool_size=(2,2), strides=(2,2)))\n",
        "\n",
        "model.add(Conv2D(filters = 96, kernel_size = (3,3),padding = 'Same',activation ='relu'))\n",
        "model.add(MaxPooling2D(pool_size=(2,2), strides=(2,2)))\n",
        "\n",
        "model.add(Flatten())\n",
        "model.add(Dense(512))\n",
        "model.add(Activation('relu'))\n",
        "model.add(Dense(21, activation = \"softmax\"))"
      ],
      "execution_count": 0,
      "outputs": [
        {
          "output_type": "stream",
          "text": [
            "WARNING:tensorflow:From /usr/local/lib/python3.6/dist-packages/keras/backend/tensorflow_backend.py:66: The name tf.get_default_graph is deprecated. Please use tf.compat.v1.get_default_graph instead.\n",
            "\n",
            "WARNING:tensorflow:From /usr/local/lib/python3.6/dist-packages/keras/backend/tensorflow_backend.py:541: The name tf.placeholder is deprecated. Please use tf.compat.v1.placeholder instead.\n",
            "\n",
            "WARNING:tensorflow:From /usr/local/lib/python3.6/dist-packages/keras/backend/tensorflow_backend.py:4432: The name tf.random_uniform is deprecated. Please use tf.random.uniform instead.\n",
            "\n",
            "WARNING:tensorflow:From /usr/local/lib/python3.6/dist-packages/keras/backend/tensorflow_backend.py:4267: The name tf.nn.max_pool is deprecated. Please use tf.nn.max_pool2d instead.\n",
            "\n"
          ],
          "name": "stdout"
        }
      ]
    },
    {
      "cell_type": "code",
      "metadata": {
        "id": "4CyXKeoytefP",
        "colab_type": "code",
        "colab": {}
      },
      "source": [
        "batch_size=21\n",
        "epochs=50\n",
        "\n",
        "from keras.callbacks import ReduceLROnPlateau\n",
        "red_lr= ReduceLROnPlateau(monitor='val_acc',patience=3,verbose=1,factor=0.1)"
      ],
      "execution_count": 0,
      "outputs": []
    },
    {
      "cell_type": "code",
      "metadata": {
        "id": "FoUfW5yqP13N",
        "colab_type": "code",
        "colab": {}
      },
      "source": [
        "datagen = ImageDataGenerator(\n",
        "        featurewise_center=False,  \n",
        "        samplewise_center=False,  \n",
        "        featurewise_std_normalization=False, \n",
        "        samplewise_std_normalization=False,  \n",
        "        zca_whitening=False,  \n",
        "        rotation_range=10,  \n",
        "        zoom_range = 0.1, \n",
        "        width_shift_range=0.2,  \n",
        "        height_shift_range=0.2,  \n",
        "        horizontal_flip=True,  \n",
        "        vertical_flip=False)  \n",
        "\n",
        "\n",
        "datagen.fit(x_train)"
      ],
      "execution_count": 0,
      "outputs": []
    },
    {
      "cell_type": "code",
      "metadata": {
        "id": "gQ7i8VvGP4Kq",
        "colab_type": "code",
        "outputId": "5b7d4d26-73d7-4f96-c4f7-ce3f926e1cbf",
        "colab": {
          "base_uri": "https://localhost:8080/",
          "height": 159
        }
      },
      "source": [
        "model.compile(optimizer=Adam(lr=0.001),loss='binary_crossentropy',metrics=['accuracy'])"
      ],
      "execution_count": 0,
      "outputs": [
        {
          "output_type": "stream",
          "text": [
            "WARNING:tensorflow:From /usr/local/lib/python3.6/dist-packages/keras/optimizers.py:793: The name tf.train.Optimizer is deprecated. Please use tf.compat.v1.train.Optimizer instead.\n",
            "\n",
            "WARNING:tensorflow:From /usr/local/lib/python3.6/dist-packages/keras/backend/tensorflow_backend.py:3657: The name tf.log is deprecated. Please use tf.math.log instead.\n",
            "\n",
            "WARNING:tensorflow:From /usr/local/lib/python3.6/dist-packages/tensorflow_core/python/ops/nn_impl.py:183: where (from tensorflow.python.ops.array_ops) is deprecated and will be removed in a future version.\n",
            "Instructions for updating:\n",
            "Use tf.where in 2.0, which has the same broadcast rule as np.where\n"
          ],
          "name": "stdout"
        }
      ]
    },
    {
      "cell_type": "code",
      "metadata": {
        "id": "EkhLylB2P7MN",
        "colab_type": "code",
        "outputId": "b66626df-bd2a-43fe-daa7-90a6ebea08ab",
        "colab": {
          "base_uri": "https://localhost:8080/",
          "height": 572
        }
      },
      "source": [
        "model.summary()"
      ],
      "execution_count": 0,
      "outputs": [
        {
          "output_type": "stream",
          "text": [
            "Model: \"sequential_1\"\n",
            "_________________________________________________________________\n",
            "Layer (type)                 Output Shape              Param #   \n",
            "=================================================================\n",
            "conv2d_1 (Conv2D)            (None, 150, 150, 32)      2432      \n",
            "_________________________________________________________________\n",
            "max_pooling2d_1 (MaxPooling2 (None, 75, 75, 32)        0         \n",
            "_________________________________________________________________\n",
            "conv2d_2 (Conv2D)            (None, 75, 75, 64)        18496     \n",
            "_________________________________________________________________\n",
            "max_pooling2d_2 (MaxPooling2 (None, 37, 37, 64)        0         \n",
            "_________________________________________________________________\n",
            "conv2d_3 (Conv2D)            (None, 37, 37, 96)        55392     \n",
            "_________________________________________________________________\n",
            "max_pooling2d_3 (MaxPooling2 (None, 18, 18, 96)        0         \n",
            "_________________________________________________________________\n",
            "conv2d_4 (Conv2D)            (None, 18, 18, 96)        83040     \n",
            "_________________________________________________________________\n",
            "max_pooling2d_4 (MaxPooling2 (None, 9, 9, 96)          0         \n",
            "_________________________________________________________________\n",
            "flatten_1 (Flatten)          (None, 7776)              0         \n",
            "_________________________________________________________________\n",
            "dense_1 (Dense)              (None, 512)               3981824   \n",
            "_________________________________________________________________\n",
            "activation_1 (Activation)    (None, 512)               0         \n",
            "_________________________________________________________________\n",
            "dense_2 (Dense)              (None, 21)                10773     \n",
            "=================================================================\n",
            "Total params: 4,151,957\n",
            "Trainable params: 4,151,957\n",
            "Non-trainable params: 0\n",
            "_________________________________________________________________\n"
          ],
          "name": "stdout"
        }
      ]
    },
    {
      "cell_type": "code",
      "metadata": {
        "id": "vdAMtGC3P9hW",
        "colab_type": "code",
        "outputId": "da8ddc55-7b29-42cb-b6df-59be07b7d8a7",
        "colab": {
          "base_uri": "https://localhost:8080/",
          "height": 1000
        }
      },
      "source": [
        "History = model.fit_generator(datagen.flow(x_train,y_train, batch_size=batch_size),\n",
        "                              epochs = epochs, validation_data = (x_test,y_test), \n",
        "                              verbose = 1, steps_per_epoch=x_train.shape[0] // batch_size)"
      ],
      "execution_count": 0,
      "outputs": [
        {
          "output_type": "stream",
          "text": [
            "WARNING:tensorflow:From /usr/local/lib/python3.6/dist-packages/keras/backend/tensorflow_backend.py:1033: The name tf.assign_add is deprecated. Please use tf.compat.v1.assign_add instead.\n",
            "\n",
            "WARNING:tensorflow:From /usr/local/lib/python3.6/dist-packages/keras/backend/tensorflow_backend.py:1020: The name tf.assign is deprecated. Please use tf.compat.v1.assign instead.\n",
            "\n",
            "WARNING:tensorflow:From /usr/local/lib/python3.6/dist-packages/keras/backend/tensorflow_backend.py:3005: The name tf.Session is deprecated. Please use tf.compat.v1.Session instead.\n",
            "\n",
            "Epoch 1/50\n",
            "WARNING:tensorflow:From /usr/local/lib/python3.6/dist-packages/keras/backend/tensorflow_backend.py:190: The name tf.get_default_session is deprecated. Please use tf.compat.v1.get_default_session instead.\n",
            "\n",
            "WARNING:tensorflow:From /usr/local/lib/python3.6/dist-packages/keras/backend/tensorflow_backend.py:197: The name tf.ConfigProto is deprecated. Please use tf.compat.v1.ConfigProto instead.\n",
            "\n",
            "WARNING:tensorflow:From /usr/local/lib/python3.6/dist-packages/keras/backend/tensorflow_backend.py:207: The name tf.global_variables is deprecated. Please use tf.compat.v1.global_variables instead.\n",
            "\n",
            "WARNING:tensorflow:From /usr/local/lib/python3.6/dist-packages/keras/backend/tensorflow_backend.py:216: The name tf.is_variable_initialized is deprecated. Please use tf.compat.v1.is_variable_initialized instead.\n",
            "\n",
            "WARNING:tensorflow:From /usr/local/lib/python3.6/dist-packages/keras/backend/tensorflow_backend.py:223: The name tf.variables_initializer is deprecated. Please use tf.compat.v1.variables_initializer instead.\n",
            "\n",
            "75/75 [==============================] - 23s 307ms/step - loss: 0.1914 - acc: 0.9524 - val_loss: 0.1902 - val_acc: 0.9524\n",
            "Epoch 2/50\n",
            "75/75 [==============================] - 10s 130ms/step - loss: 0.1795 - acc: 0.9522 - val_loss: 0.1651 - val_acc: 0.9527\n",
            "Epoch 3/50\n",
            "75/75 [==============================] - 10s 131ms/step - loss: 0.1581 - acc: 0.9532 - val_loss: 0.1551 - val_acc: 0.9524\n",
            "Epoch 4/50\n",
            "75/75 [==============================] - 10s 132ms/step - loss: 0.1459 - acc: 0.9546 - val_loss: 0.1286 - val_acc: 0.9576\n",
            "Epoch 5/50\n",
            "75/75 [==============================] - 10s 131ms/step - loss: 0.1301 - acc: 0.9572 - val_loss: 0.1124 - val_acc: 0.9610\n",
            "Epoch 6/50\n",
            "75/75 [==============================] - 10s 136ms/step - loss: 0.1201 - acc: 0.9596 - val_loss: 0.1117 - val_acc: 0.9632\n",
            "Epoch 7/50\n",
            "75/75 [==============================] - 10s 133ms/step - loss: 0.1095 - acc: 0.9616 - val_loss: 0.0971 - val_acc: 0.9639\n",
            "Epoch 8/50\n",
            "75/75 [==============================] - 10s 132ms/step - loss: 0.1000 - acc: 0.9637 - val_loss: 0.0891 - val_acc: 0.9671\n",
            "Epoch 9/50\n",
            "75/75 [==============================] - 10s 133ms/step - loss: 0.0914 - acc: 0.9661 - val_loss: 0.0870 - val_acc: 0.9670\n",
            "Epoch 10/50\n",
            "75/75 [==============================] - 10s 132ms/step - loss: 0.0879 - acc: 0.9669 - val_loss: 0.0776 - val_acc: 0.9721\n",
            "Epoch 11/50\n",
            "75/75 [==============================] - 10s 135ms/step - loss: 0.0873 - acc: 0.9674 - val_loss: 0.0804 - val_acc: 0.9704\n",
            "Epoch 12/50\n",
            "75/75 [==============================] - 10s 131ms/step - loss: 0.0797 - acc: 0.9701 - val_loss: 0.0666 - val_acc: 0.9751\n",
            "Epoch 13/50\n",
            "75/75 [==============================] - 10s 131ms/step - loss: 0.0765 - acc: 0.9713 - val_loss: 0.0620 - val_acc: 0.9761\n",
            "Epoch 14/50\n",
            "75/75 [==============================] - 10s 131ms/step - loss: 0.0710 - acc: 0.9732 - val_loss: 0.0683 - val_acc: 0.9727\n",
            "Epoch 15/50\n",
            "75/75 [==============================] - 10s 131ms/step - loss: 0.0720 - acc: 0.9722 - val_loss: 0.0654 - val_acc: 0.9770\n",
            "Epoch 16/50\n",
            "75/75 [==============================] - 10s 137ms/step - loss: 0.0644 - acc: 0.9749 - val_loss: 0.0578 - val_acc: 0.9797\n",
            "Epoch 17/50\n",
            "75/75 [==============================] - 10s 132ms/step - loss: 0.0632 - acc: 0.9764 - val_loss: 0.0588 - val_acc: 0.9780\n",
            "Epoch 18/50\n",
            "75/75 [==============================] - 10s 131ms/step - loss: 0.0605 - acc: 0.9770 - val_loss: 0.0647 - val_acc: 0.9764\n",
            "Epoch 19/50\n",
            "75/75 [==============================] - 10s 132ms/step - loss: 0.0571 - acc: 0.9787 - val_loss: 0.0539 - val_acc: 0.9807\n",
            "Epoch 20/50\n",
            "75/75 [==============================] - 10s 132ms/step - loss: 0.0530 - acc: 0.9804 - val_loss: 0.0522 - val_acc: 0.9804\n",
            "Epoch 21/50\n",
            "75/75 [==============================] - 10s 135ms/step - loss: 0.0498 - acc: 0.9814 - val_loss: 0.0557 - val_acc: 0.9805\n",
            "Epoch 22/50\n",
            "75/75 [==============================] - 10s 131ms/step - loss: 0.0477 - acc: 0.9820 - val_loss: 0.0391 - val_acc: 0.9848\n",
            "Epoch 23/50\n",
            "75/75 [==============================] - 10s 130ms/step - loss: 0.0418 - acc: 0.9837 - val_loss: 0.0464 - val_acc: 0.9832\n",
            "Epoch 24/50\n",
            "75/75 [==============================] - 10s 131ms/step - loss: 0.0464 - acc: 0.9820 - val_loss: 0.0522 - val_acc: 0.9820\n",
            "Epoch 25/50\n",
            "75/75 [==============================] - 10s 133ms/step - loss: 0.0471 - acc: 0.9823 - val_loss: 0.0408 - val_acc: 0.9851\n",
            "Epoch 26/50\n",
            "75/75 [==============================] - 10s 135ms/step - loss: 0.0386 - acc: 0.9849 - val_loss: 0.0484 - val_acc: 0.9823\n",
            "Epoch 27/50\n",
            "75/75 [==============================] - 10s 130ms/step - loss: 0.0470 - acc: 0.9821 - val_loss: 0.0479 - val_acc: 0.9829\n",
            "Epoch 28/50\n",
            "75/75 [==============================] - 10s 131ms/step - loss: 0.0376 - acc: 0.9857 - val_loss: 0.0419 - val_acc: 0.9835\n",
            "Epoch 29/50\n",
            "75/75 [==============================] - 10s 131ms/step - loss: 0.0387 - acc: 0.9858 - val_loss: 0.0407 - val_acc: 0.9853\n",
            "Epoch 30/50\n",
            "75/75 [==============================] - 10s 132ms/step - loss: 0.0363 - acc: 0.9861 - val_loss: 0.0390 - val_acc: 0.9866\n",
            "Epoch 31/50\n",
            "75/75 [==============================] - 10s 137ms/step - loss: 0.0389 - acc: 0.9848 - val_loss: 0.0432 - val_acc: 0.9841\n",
            "Epoch 32/50\n",
            "75/75 [==============================] - 10s 133ms/step - loss: 0.0348 - acc: 0.9870 - val_loss: 0.0454 - val_acc: 0.9832\n",
            "Epoch 33/50\n",
            "75/75 [==============================] - 10s 131ms/step - loss: 0.0350 - acc: 0.9855 - val_loss: 0.0417 - val_acc: 0.9838\n",
            "Epoch 34/50\n",
            "75/75 [==============================] - 10s 131ms/step - loss: 0.0370 - acc: 0.9857 - val_loss: 0.0398 - val_acc: 0.9859\n",
            "Epoch 35/50\n",
            "75/75 [==============================] - 10s 132ms/step - loss: 0.0334 - acc: 0.9868 - val_loss: 0.0519 - val_acc: 0.9821\n",
            "Epoch 36/50\n",
            "75/75 [==============================] - 10s 135ms/step - loss: 0.0320 - acc: 0.9883 - val_loss: 0.0441 - val_acc: 0.9848\n",
            "Epoch 37/50\n",
            "75/75 [==============================] - 10s 129ms/step - loss: 0.0301 - acc: 0.9884 - val_loss: 0.0361 - val_acc: 0.9874\n",
            "Epoch 38/50\n",
            "75/75 [==============================] - 10s 131ms/step - loss: 0.0279 - acc: 0.9901 - val_loss: 0.0456 - val_acc: 0.9851\n",
            "Epoch 39/50\n",
            "75/75 [==============================] - 10s 131ms/step - loss: 0.0284 - acc: 0.9894 - val_loss: 0.0503 - val_acc: 0.9834\n",
            "Epoch 40/50\n",
            "75/75 [==============================] - 10s 132ms/step - loss: 0.0290 - acc: 0.9891 - val_loss: 0.0465 - val_acc: 0.9850\n",
            "Epoch 41/50\n",
            "75/75 [==============================] - 10s 135ms/step - loss: 0.0266 - acc: 0.9899 - val_loss: 0.0324 - val_acc: 0.9882\n",
            "Epoch 42/50\n",
            "75/75 [==============================] - 10s 131ms/step - loss: 0.0272 - acc: 0.9895 - val_loss: 0.0392 - val_acc: 0.9856\n",
            "Epoch 43/50\n",
            "75/75 [==============================] - 10s 132ms/step - loss: 0.0226 - acc: 0.9912 - val_loss: 0.0352 - val_acc: 0.9885\n",
            "Epoch 44/50\n",
            "75/75 [==============================] - 10s 132ms/step - loss: 0.0233 - acc: 0.9913 - val_loss: 0.0336 - val_acc: 0.9886\n",
            "Epoch 45/50\n",
            "75/75 [==============================] - 10s 131ms/step - loss: 0.0213 - acc: 0.9926 - val_loss: 0.0462 - val_acc: 0.9841\n",
            "Epoch 46/50\n",
            "75/75 [==============================] - 10s 133ms/step - loss: 0.0238 - acc: 0.9907 - val_loss: 0.0371 - val_acc: 0.9869\n",
            "Epoch 47/50\n",
            "75/75 [==============================] - 10s 129ms/step - loss: 0.0202 - acc: 0.9925 - val_loss: 0.0365 - val_acc: 0.9871\n",
            "Epoch 48/50\n",
            "75/75 [==============================] - 10s 129ms/step - loss: 0.0225 - acc: 0.9921 - val_loss: 0.0493 - val_acc: 0.9842\n",
            "Epoch 49/50\n",
            "75/75 [==============================] - 10s 132ms/step - loss: 0.0236 - acc: 0.9911 - val_loss: 0.0461 - val_acc: 0.9859\n",
            "Epoch 50/50\n",
            "75/75 [==============================] - 10s 131ms/step - loss: 0.0218 - acc: 0.9921 - val_loss: 0.0406 - val_acc: 0.9867\n"
          ],
          "name": "stdout"
        }
      ]
    },
    {
      "cell_type": "code",
      "metadata": {
        "id": "4SWrUb5oQAVj",
        "colab_type": "code",
        "outputId": "c8f0e0fb-faf8-4c3d-8fe6-16010a834436",
        "colab": {
          "base_uri": "https://localhost:8080/",
          "height": 317
        }
      },
      "source": [
        "plt.plot(History.history['loss'])\n",
        "plt.plot(History.history['val_loss'])\n",
        "plt.title('Model Loss')\n",
        "plt.ylabel('Loss')\n",
        "plt.xlabel('Epochs')\n",
        "plt.legend(['train', 'test'])\n",
        "plt.show()"
      ],
      "execution_count": 0,
      "outputs": [
        {
          "output_type": "display_data",
          "data": {
            "image/png": "[encoded data removed]",
            "text/plain": [
              "<Figure size 432x288 with 1 Axes>"
            ]
          },
          "metadata": {
            "tags": []
          }
        }
      ]
    },
    {
      "cell_type": "code",
      "metadata": {
        "id": "lYxOEAJqnFvI",
        "colab_type": "code",
        "outputId": "81a370a0-3f41-4d84-c31a-9ec89141b059",
        "colab": {
          "base_uri": "https://localhost:8080/",
          "height": 317
        }
      },
      "source": [
        "plt.plot(History.history['acc'])\n",
        "plt.plot(History.history['val_acc'])\n",
        "plt.title('Model Accuracy')\n",
        "plt.ylabel('Accuracy')\n",
        "plt.xlabel('Epochs')\n",
        "plt.legend(['train', 'test'])\n",
        "plt.show()"
      ],
      "execution_count": 0,
      "outputs": [
        {
          "output_type": "display_data",
          "data": {
            "image/png": "[encoded data removed]",
            "text/plain": [
              "<Figure size 432x288 with 1 Axes>"
            ]
          },
          "metadata": {
            "tags": []
          }
        }
      ]
    },
    {
      "cell_type": "code",
      "metadata": {
        "id": "mz2miqcQnIfu",
        "colab_type": "code",
        "outputId": "9bcafdba-731f-489b-ade3-b5375fb9ec02",
        "colab": {
          "base_uri": "https://localhost:8080/",
          "height": 550
        }
      },
      "source": [
        "import seaborn as sns\n",
        "Y_pred = model.predict(x_test)\n",
        "\n",
        "Y_pred_classes = np.argmax(Y_pred,axis = 1) \n",
        "\n",
        "Y_true = np.argmax(y_test,axis = 1) \n",
        "\n",
        "confusion_mtx = confusion_matrix(Y_true, Y_pred_classes) \n",
        "\n",
        "f,ax = plt.subplots(figsize=(8, 8))\n",
        "sns.heatmap(confusion_mtx, annot=True, linewidths=0.01,linecolor=\"gray\", fmt= '.1f',ax=ax)\n",
        "plt.xlabel(\"Predicted Label\")\n",
        "plt.ylabel(\"True Label\")\n",
        "plt.title(\"Confusion Matrix\")\n",
        "plt.show()"
      ],
      "execution_count": 0,
      "outputs": [
        {
          "output_type": "display_data",
          "data": {
            "image/png": "[encoded data removed]",
            "text/plain": [
              "<Figure size 576x576 with 2 Axes>"
            ]
          },
          "metadata": {
            "tags": []
          }
        }
      ]
    }
  ]
}